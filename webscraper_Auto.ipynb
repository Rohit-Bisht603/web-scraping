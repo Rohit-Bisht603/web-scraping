{
 "cells": [
  {
   "cell_type": "code",
   "execution_count": 2,
   "id": "f4bf6e68",
   "metadata": {},
   "outputs": [],
   "source": [
    "from autoscraper import AutoScraper"
   ]
  },
  {
   "cell_type": "code",
   "execution_count": 13,
   "id": "a8c9c725",
   "metadata": {},
   "outputs": [],
   "source": [
    "flipkart_url = \"https://www.flipkart.com/search?q=laptops&otracker=search&otracker1=search&marketplace=FLIPKART&as-show=on&as=off\"\n",
    "wanted = [\"₹86,990\", \"APPLE 2020 Macbook Air M1 - (8 GB/256 GB SSD/Mac OS Big Sur) MGN63HN/A\",\"9,035 Ratings & 812 Reviews\"]"
   ]
  },
  {
   "cell_type": "code",
   "execution_count": 14,
   "id": "513151d9",
   "metadata": {},
   "outputs": [
    {
     "name": "stdout",
     "output_type": "stream",
     "text": [
      "['₹49,990', '₹23,990', '₹86,990', '₹44,490', '₹29,990', '₹1,12,000', '₹39,990', '₹35,490', '₹35,990', '₹32,990', '₹38,990', '₹79,990', '₹63,990', '₹59,990', '₹81,990', '₹37,990', '₹59,390', '₹67,490', '₹38,490', '₹1,34,990', '₹1,09,990', 'ASUS TUF Gaming F15 Core i5 10th Gen - (8 GB/512 GB SSD/Windows 11 Home/4 GB Graphics/NVIDIA GeForce GTX 1650/144 Hz) FX506LHB-HN358W Gaming Laptop', 'ASUS VivoBook 14 (2021) Celeron Dual Core - (4 GB/256 GB SSD/Windows 11 Home) X415MA-BV011W Thin and Light Laptop', 'APPLE 2020 Macbook Air M1 - (8 GB/256 GB SSD/Mac OS Big Sur) MGN63HN/A', 'HP 15s Intel Core i3 12th Gen - (8 GB/512 GB SSD/Windows 11 Home) 15s-fq5007TU Thin and Light Laptop', 'HP Athlon Dual Core 3050U - (8 GB/512 GB SSD/Windows 11 Home) 15s- eq1559AU Thin and Light Laptop', 'MSI Crosshair 15 Core i7 12th Gen - (16 GB/1 TB SSD/Windows 11 Home/6 GB Graphics/NVIDIA GeForce RTX 3...', 'RedmiBook Pro Core i5 11th Gen - (8 GB/512 GB SSD/Windows 11 Home) Thin and Light Laptop', 'ASUS TUF Gaming F15 Core i5 10th Gen - (8 GB/512 GB SSD/Windows 11 Home/4 GB Graphics/NVIDIA GeForce G...', 'Lenovo V15 G2 Core i3 11th Gen - (8 GB/1 TB HDD/256 GB SSD/Windows 11 Home) V15 ITL G2 Laptop', 'HP 14s Intel Core i3 11th Gen - (8 GB/256 GB SSD/Windows 11 Home) 14s - dy2507TU Thin and Light Laptop', 'ASUS VivoBook 15 (2022) Core i3 10th Gen - (8 GB/512 GB SSD/Windows 11 Home) X515JA-EJ362WS | X515JA-E...', 'ASUS Vivobook 15 Core i3 11th Gen - (8 GB/512 GB SSD/Windows 11 Home) X515EA-EJ322WS Thin and Light La...', 'MSI Alpha 15 AMD Advantage Edition Ryzen 7 Octa Core 5800H - (8 GB/512 GB SSD/Windows 11 Home/8 GB Gra...', 'ASUS TUF Gaming A17 with 90Whr Battery Ryzen 5 Hexa Core AMD R5-4600H - (8 GB/512 GB SSD/Windows 11 Ho...', 'MSI Core i5 11th Gen - (8 GB/512 GB SSD/Windows 10 Home/4 GB Graphics/NVIDIA GeForce GTX 1650 MAX Q/14...', 'ASUS TUF Gaming A17 with 90Whr Battery Ryzen 7 Octa Core AMD R7-4800H - (8 GB/512 GB SSD/Windows 11 Ho...', 'ASUS VivoBook 14 (2021) Celeron Dual Core - (4 GB/256 GB SSD/Windows 11 Home) X415MA-BV011W Thin and L...', 'DELL Vostro Core i3 11th Gen - (8 GB/1 TB HDD/256 GB SSD/Windows 11 Home) Vostro 3510 Thin and Light L...', 'Lenovo IdeaPad Slim 3 Core i3 11th Gen - (8 GB/256 GB SSD/Windows 11 Home) 15ITL05 Thin and Light Lapt...', 'HP Pavilion Intel Core i5 12th Gen - (16 GB/512 GB SSD/Windows 11 Home) 14-dv2014TU Thin and Light Lap...', 'HP Ryzen 3 Quad Core 5300U - (8 GB/512 GB SSD/Windows 11 Home) 15s-eq2143au Thin and Light Laptop', 'Infinix INBook Y1 Plus Intel Core i3 10th Gen - (8 GB/256 GB SSD/Windows 11 Home) XL28 Thin and Light ...', 'MSI Core i7 12th Gen - (16 GB/1 TB SSD/Windows 11 Home/8 GB Graphics/NVIDIA GeForce RTX 3070/165 Hz) C...', 'MSI Katana GF66 Core i7 11th Gen - (16 GB/512 GB SSD/Windows 10 Home/6 GB Graphics/NVIDIA GeForce RTX ...', 'MSI Core i9 12th Gen - (16 GB/1 TB SSD/Windows 11 Home/6 GB Graphics/NVIDIA GeForce RTX 3060/165 Hz) P...', '44 Ratings & 7 Reviews', '4,133 Ratings & 480 Reviews', '4,971 Ratings & 487 Reviews', '66 Ratings & 3 Reviews', '1,886 Ratings & 166 Reviews', '10,739 Ratings & 1,066 Reviews', '327 Ratings & 37 Reviews', '423 Ratings & 66 Reviews', '133 Ratings & 24 Reviews', '988 Ratings & 103 Reviews', '1,568 Ratings & 188 Reviews', '269 Ratings & 23 Reviews', '1,058 Ratings & 132 Reviews', '882 Ratings & 111 Reviews', '205 Ratings & 16 Reviews', '330 Ratings & 25 Reviews', '1,970 Ratings & 216 Reviews', '1,054 Ratings & 189 Reviews', '5 Ratings & 0 Reviews', '9,035 Ratings & 812 Reviews', '151 Ratings & 17 Reviews', '32 Ratings & 8 Reviews']\n"
     ]
    }
   ],
   "source": [
    "scraper = AutoScraper()\n",
    "result = scraper.build(flipkart_url, wanted)\n",
    "print(result)"
   ]
  },
  {
   "cell_type": "code",
   "execution_count": 16,
   "id": "352b6b9f",
   "metadata": {},
   "outputs": [
    {
     "data": {
      "text/plain": [
       "{'rule_o2yl': ['₹49,990', '₹23,990', '₹52,990', '₹44,490', '₹29,990'],\n",
       " 'rule_1e7o': ['₹1,12,000',\n",
       "  '₹39,990',\n",
       "  '₹49,990',\n",
       "  '₹35,490',\n",
       "  '₹32,990',\n",
       "  '₹35,990',\n",
       "  '₹38,990',\n",
       "  '₹79,990',\n",
       "  '₹44,490',\n",
       "  '₹29,990',\n",
       "  '₹81,990',\n",
       "  '₹59,990',\n",
       "  '₹63,990',\n",
       "  '₹23,990',\n",
       "  '₹37,990',\n",
       "  '₹59,390',\n",
       "  '₹67,490',\n",
       "  '₹38,490',\n",
       "  '₹29,990',\n",
       "  '₹1,34,990',\n",
       "  '₹29,990',\n",
       "  '₹79,990',\n",
       "  '₹52,990',\n",
       "  '₹1,09,990'],\n",
       " 'rule_zwjm': ['ASUS TUF Gaming F15 Core i5 10th Gen - (8 GB/512 GB SSD/Windows 11 Home/4 GB Graphics/NVIDIA GeForce GTX 1650/144 Hz) FX506LHB-HN358W Gaming Laptop',\n",
       "  'ASUS VivoBook 14 (2021) Celeron Dual Core - (4 GB/256 GB SSD/Windows 11 Home) X415MA-BV011W Thin and Light Laptop',\n",
       "  'HP Intel Core i5 11th Gen - (8 GB/512 GB SSD/Windows 11 Home) 15s- fr4000TU Thin and Light Laptop',\n",
       "  'HP 15s Intel Core i3 12th Gen - (8 GB/512 GB SSD/Windows 11 Home) 15s-fq5007TU Thin and Light Laptop',\n",
       "  'HP Athlon Dual Core 3050U - (8 GB/512 GB SSD/Windows 11 Home) 15s- eq1559AU Thin and Light Laptop'],\n",
       " 'rule_oi66': ['MSI Crosshair 15 Core i7 12th Gen - (16 GB/1 TB SSD/Windows 11 Home/6 GB Graphics/NVIDIA GeForce RTX 3...',\n",
       "  'RedmiBook Pro Core i5 11th Gen - (8 GB/512 GB SSD/Windows 11 Home) Thin and Light Laptop',\n",
       "  'ASUS TUF Gaming F15 Core i5 10th Gen - (8 GB/512 GB SSD/Windows 11 Home/4 GB Graphics/NVIDIA GeForce G...',\n",
       "  'Lenovo V15 G2 Core i3 11th Gen - (8 GB/1 TB HDD/256 GB SSD/Windows 11 Home) V15 ITL G2 Laptop',\n",
       "  'ASUS VivoBook 15 (2022) Core i3 10th Gen - (8 GB/512 GB SSD/Windows 11 Home) X515JA-EJ362WS | X515JA-E...',\n",
       "  'HP 14s Intel Core i3 11th Gen - (8 GB/256 GB SSD/Windows 11 Home) 14s - dy2507TU Thin and Light Laptop',\n",
       "  'ASUS Vivobook 15 Core i3 11th Gen - (8 GB/512 GB SSD/Windows 11 Home) X515EA-EJ322WS Thin and Light La...',\n",
       "  'MSI Alpha 15 AMD Advantage Edition Ryzen 7 Octa Core 5800H - (8 GB/512 GB SSD/Windows 11 Home/8 GB Gra...',\n",
       "  'HP 15s Intel Core i3 12th Gen - (8 GB/512 GB SSD/Windows 11 Home) 15s-fq5007TU Thin and Light Laptop',\n",
       "  'HP Athlon Dual Core 3050U - (8 GB/512 GB SSD/Windows 11 Home) 15s- eq1559AU Thin and Light Laptop',\n",
       "  'ASUS TUF Gaming A17 with 90Whr Battery Ryzen 7 Octa Core AMD R7-4800H - (8 GB/512 GB SSD/Windows 11 Ho...',\n",
       "  'MSI Core i5 11th Gen - (8 GB/512 GB SSD/Windows 10 Home/4 GB Graphics/NVIDIA GeForce GTX 1650 MAX Q/14...',\n",
       "  'ASUS TUF Gaming A17 with 90Whr Battery Ryzen 5 Hexa Core AMD R5-4600H - (8 GB/512 GB SSD/Windows 11 Ho...',\n",
       "  'ASUS VivoBook 14 (2021) Celeron Dual Core - (4 GB/256 GB SSD/Windows 11 Home) X415MA-BV011W Thin and L...',\n",
       "  'DELL Vostro Core i3 11th Gen - (8 GB/1 TB HDD/256 GB SSD/Windows 11 Home) Vostro 3510 Thin and Light L...',\n",
       "  'Lenovo IdeaPad Slim 3 Core i3 11th Gen - (8 GB/256 GB SSD/Windows 11 Home) 15ITL05 Thin and Light Lapt...',\n",
       "  'HP Pavilion Intel Core i5 12th Gen - (16 GB/512 GB SSD/Windows 11 Home) 14-dv2014TU Thin and Light Lap...',\n",
       "  'HP Ryzen 3 Quad Core 5300U - (8 GB/512 GB SSD/Windows 11 Home) 15s-eq2143au Thin and Light Laptop',\n",
       "  'Infinix INBook Y1 Plus Intel Core i3 10th Gen - (8 GB/256 GB SSD/Windows 11 Home) XL28 Thin and Light ...',\n",
       "  'MSI Core i7 12th Gen - (16 GB/1 TB SSD/Windows 11 Home/8 GB Graphics/NVIDIA GeForce RTX 3070/165 Hz) C...',\n",
       "  'Infinix INBook Y1 Plus Intel Core i3 10th Gen - (8 GB/256 GB SSD/Windows 11 Home) XL28 Thin and Light ...',\n",
       "  'MSI Katana GF66 Core i7 11th Gen - (16 GB/512 GB SSD/Windows 10 Home/6 GB Graphics/NVIDIA GeForce RTX ...',\n",
       "  'HP Intel Core i5 11th Gen - (8 GB/512 GB SSD/Windows 11 Home) 15s- fr4000TU Thin and Light Laptop',\n",
       "  'MSI Core i9 12th Gen - (16 GB/1 TB SSD/Windows 11 Home/6 GB Graphics/NVIDIA GeForce RTX 3060/165 Hz) P...'],\n",
       " 'rule_s61b': ['MSI Crosshair 15 Core i7 12th Gen - (16 GB/1 TB SSD/Windows 11 Home/6 GB Graphics/NVIDIA GeForce RTX 3...',\n",
       "  'RedmiBook Pro Core i5 11th Gen - (8 GB/512 GB SSD/Windows 11 Home) Thin and Light Laptop',\n",
       "  'ASUS TUF Gaming F15 Core i5 10th Gen - (8 GB/512 GB SSD/Windows 11 Home/4 GB Graphics/NVIDIA GeForce G...',\n",
       "  'Lenovo V15 G2 Core i3 11th Gen - (8 GB/1 TB HDD/256 GB SSD/Windows 11 Home) V15 ITL G2 Laptop',\n",
       "  'ASUS VivoBook 15 (2022) Core i3 10th Gen - (8 GB/512 GB SSD/Windows 11 Home) X515JA-EJ362WS | X515JA-E...',\n",
       "  'HP 14s Intel Core i3 11th Gen - (8 GB/256 GB SSD/Windows 11 Home) 14s - dy2507TU Thin and Light Laptop',\n",
       "  'ASUS Vivobook 15 Core i3 11th Gen - (8 GB/512 GB SSD/Windows 11 Home) X515EA-EJ322WS Thin and Light La...',\n",
       "  'MSI Alpha 15 AMD Advantage Edition Ryzen 7 Octa Core 5800H - (8 GB/512 GB SSD/Windows 11 Home/8 GB Gra...',\n",
       "  'HP 15s Intel Core i3 12th Gen - (8 GB/512 GB SSD/Windows 11 Home) 15s-fq5007TU Thin and Light Laptop',\n",
       "  'HP Athlon Dual Core 3050U - (8 GB/512 GB SSD/Windows 11 Home) 15s- eq1559AU Thin and Light Laptop',\n",
       "  'ASUS TUF Gaming A17 with 90Whr Battery Ryzen 7 Octa Core AMD R7-4800H - (8 GB/512 GB SSD/Windows 11 Ho...',\n",
       "  'MSI Core i5 11th Gen - (8 GB/512 GB SSD/Windows 10 Home/4 GB Graphics/NVIDIA GeForce GTX 1650 MAX Q/14...',\n",
       "  'ASUS TUF Gaming A17 with 90Whr Battery Ryzen 5 Hexa Core AMD R5-4600H - (8 GB/512 GB SSD/Windows 11 Ho...',\n",
       "  'ASUS VivoBook 14 (2021) Celeron Dual Core - (4 GB/256 GB SSD/Windows 11 Home) X415MA-BV011W Thin and L...',\n",
       "  'DELL Vostro Core i3 11th Gen - (8 GB/1 TB HDD/256 GB SSD/Windows 11 Home) Vostro 3510 Thin and Light L...',\n",
       "  'Lenovo IdeaPad Slim 3 Core i3 11th Gen - (8 GB/256 GB SSD/Windows 11 Home) 15ITL05 Thin and Light Lapt...',\n",
       "  'HP Pavilion Intel Core i5 12th Gen - (16 GB/512 GB SSD/Windows 11 Home) 14-dv2014TU Thin and Light Lap...',\n",
       "  'HP Ryzen 3 Quad Core 5300U - (8 GB/512 GB SSD/Windows 11 Home) 15s-eq2143au Thin and Light Laptop',\n",
       "  'Infinix INBook Y1 Plus Intel Core i3 10th Gen - (8 GB/256 GB SSD/Windows 11 Home) XL28 Thin and Light ...',\n",
       "  'MSI Core i7 12th Gen - (16 GB/1 TB SSD/Windows 11 Home/8 GB Graphics/NVIDIA GeForce RTX 3070/165 Hz) C...',\n",
       "  'Infinix INBook Y1 Plus Intel Core i3 10th Gen - (8 GB/256 GB SSD/Windows 11 Home) XL28 Thin and Light ...',\n",
       "  'MSI Katana GF66 Core i7 11th Gen - (16 GB/512 GB SSD/Windows 10 Home/6 GB Graphics/NVIDIA GeForce RTX ...',\n",
       "  'HP Intel Core i5 11th Gen - (8 GB/512 GB SSD/Windows 11 Home) 15s- fr4000TU Thin and Light Laptop',\n",
       "  'MSI Core i9 12th Gen - (16 GB/1 TB SSD/Windows 11 Home/6 GB Graphics/NVIDIA GeForce RTX 3060/165 Hz) P...'],\n",
       " 'rule_3kgg': ['44 Ratings & 7 Reviews',\n",
       "  '4,133 Ratings & 480 Reviews',\n",
       "  '4,971 Ratings & 487 Reviews',\n",
       "  '66 Ratings & 3 Reviews',\n",
       "  '10,739 Ratings & 1,066 Reviews',\n",
       "  '1,886 Ratings & 166 Reviews',\n",
       "  '327 Ratings & 37 Reviews',\n",
       "  '423 Ratings & 66 Reviews',\n",
       "  '133 Ratings & 24 Reviews',\n",
       "  '988 Ratings & 103 Reviews',\n",
       "  '1,058 Ratings & 132 Reviews',\n",
       "  '269 Ratings & 23 Reviews',\n",
       "  '1,568 Ratings & 188 Reviews',\n",
       "  '882 Ratings & 111 Reviews',\n",
       "  '205 Ratings & 16 Reviews',\n",
       "  '330 Ratings & 25 Reviews',\n",
       "  '1,970 Ratings & 216 Reviews',\n",
       "  '1,054 Ratings & 189 Reviews',\n",
       "  '5 Ratings & 0 Reviews',\n",
       "  '1,054 Ratings & 189 Reviews',\n",
       "  '151 Ratings & 17 Reviews',\n",
       "  '100 Ratings & 9 Reviews',\n",
       "  '32 Ratings & 8 Reviews']}"
      ]
     },
     "execution_count": 16,
     "metadata": {},
     "output_type": "execute_result"
    }
   ],
   "source": [
    "scraper.get_result_similar(flipkart_url, grouped = True)"
   ]
  },
  {
   "cell_type": "code",
   "execution_count": 17,
   "id": "79f52ee3",
   "metadata": {},
   "outputs": [],
   "source": [
    "scraper.set_rule_aliases({'rule_1e7o' : 'Price', 'rule_oi66' : 'Title'})\n",
    "scraper.keep_rules(['rule_1e7o', 'rule_oi66'])\n",
    "scraper.save('flipkart-search')"
   ]
  },
  {
   "cell_type": "code",
   "execution_count": 22,
   "id": "da4947ab",
   "metadata": {},
   "outputs": [
    {
     "name": "stdout",
     "output_type": "stream",
     "text": [
      "['APPLE 2020 Macbook Air M1 - (8 GB/256 GB SSD/Mac OS Big Sur) MGN63HN/A', 'APPLE 2020 Macbook Air M1 - (8 GB/256 GB SSD/Mac OS Big Sur) MGN93HN/A', 'APPLE 2020 Macbook Air M1 - (8 GB/512 GB SSD/Mac OS Big Sur) MGNE3HN/A', 'APPLE MacBook Air M1 - (8 GB/512 GB SSD/Mac OS Big Sur) Z12400092', 'APPLE MacBook Air M1 - (16 GB/256 GB SSD/Mac OS Big Sur) Z124J005KD', 'APPLE MacBook Air M1 - (16 GB/512 GB SSD/Mac OS Big Sur) Z124J002KD', 'APPLE MacBook Air M1 - (16 GB/256 GB SSD/Mac OS Big Sur) Z124J001KD', 'APPLE MacBook Air M1 - (8 GB/512 GB SSD/Mac OS Big Sur) Z12A000D3', 'APPLE 2021 Macbook Pro M1 Max - (32 GB/1 TB SSD/Mac OS Monterey) MK1A3HN/A', 'APPLE 2021 Macbook Pro M1 Pro - (16 GB/1 TB SSD/Mac OS Monterey) MK1F3HN/A', 'APPLE 2021 Macbook Pro M1 Pro - (16 GB/1 TB SSD/Mac OS Monterey) MK193HN/A', 'APPLE 2021 Macbook Pro M1 Pro - (16 GB/1 TB SSD/Mac OS Monterey) MKGT3HN/A', 'APPLE 2021 Macbook Pro M1 Pro - (16 GB/1 TB SSD/Mac OS Monterey) MKGQ3HN/A', 'APPLE 2021 Macbook Pro M1 Pro - (16 GB/512 GB SSD/Mac OS Monterey) MK1E3HN/A', 'APPLE 2021 Macbook Pro M1 Max - (32 GB/1 TB SSD/Mac OS Monterey) MK1H3HN/A', 'APPLE 2020 Macbook Pro M1 - (8 GB/512 GB SSD/Mac OS Big Sur) MYD92HN/A', 'APPLE 2022 MacBook AIR M2 - (8 GB/256 GB SSD/Mac OS Monterey) MLXW3HN/A', 'APPLE 2022 MacBook AIR M2 - (16 GB/512 GB SSD/Mac OS Monterey) Z160000ZC', 'APPLE 2022 MacBook AIR M2 - (8 GB/512 GB SSD/Mac OS Monterey) Z160000Z1', 'APPLE 2022 MacBook AIR M2 - (16 GB/256 GB SSD/Mac OS Monterey) Z160000Z4', 'APPLE 2022 MacBook AIR M2 - (8 GB/512 GB SSD/Mac OS Monterey) Z15W000Z2', 'APPLE 2022 MacBook AIR M2 - (8 GB/512 GB SSD/Mac OS Monterey) Z15S0010Z', 'APPLE 2022 MacBook AIR M2 - (16 GB/256 GB SSD/Mac OS Monterey) Z15Y000Z4', 'APPLE 2022 MacBook Pro M2 - (8 GB/512 GB SSD/Mac OS Monterey) MNEJ3HN/A']\n"
     ]
    }
   ],
   "source": [
    "ress = scraper.get_result_similar(\"https://www.flipkart.com/search?q=macbook&otracker=search&otracker1=search&marketplace=FLIPKART&as-show=on&as=off\", group_by_alias = True)\n",
    "print(ress['Title'])"
   ]
  },
  {
   "cell_type": "code",
   "execution_count": null,
   "id": "dfa32865",
   "metadata": {},
   "outputs": [],
   "source": []
  }
 ],
 "metadata": {
  "kernelspec": {
   "display_name": "Python 3 (ipykernel)",
   "language": "python",
   "name": "python3"
  },
  "language_info": {
   "codemirror_mode": {
    "name": "ipython",
    "version": 3
   },
   "file_extension": ".py",
   "mimetype": "text/x-python",
   "name": "python",
   "nbconvert_exporter": "python",
   "pygments_lexer": "ipython3",
   "version": "3.9.13"
  }
 },
 "nbformat": 4,
 "nbformat_minor": 5
}
